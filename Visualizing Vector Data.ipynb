{
 "cells": [
  {
   "cell_type": "markdown",
   "id": "1a72838a",
   "metadata": {},
   "source": [
    "# Visualizing Vector data, in this example, I will use Oregon major cities shapefile. Link to the resource: [Oregon Spatial Data Library](https://spatialdata.oregonexplorer.info/geoportal/search)"
   ]
  },
  {
   "cell_type": "code",
   "execution_count": null,
   "id": "94cebf8e",
   "metadata": {},
   "outputs": [],
   "source": [
    "import os\n",
    "os.environ['USE_PYGEOS'] = '0'\n",
    "import geopandas as gpd\n",
    "import ipyleaflet"
   ]
  }
 ],
 "metadata": {
  "kernelspec": {
   "display_name": "Python 3 (ipykernel)",
   "language": "python",
   "name": "python3"
  },
  "language_info": {
   "codemirror_mode": {
    "name": "ipython",
    "version": 3
   },
   "file_extension": ".py",
   "mimetype": "text/x-python",
   "name": "python",
   "nbconvert_exporter": "python",
   "pygments_lexer": "ipython3",
   "version": "3.9.18"
  }
 },
 "nbformat": 4,
 "nbformat_minor": 5
}
