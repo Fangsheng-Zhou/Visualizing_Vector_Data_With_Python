{
 "cells": [
  {
   "cell_type": "markdown",
   "id": "7f90457d",
   "metadata": {},
   "source": [
    "# Visualizing Vector Data - Cities/Towns\n",
    "\n",
    "### Note: In this example, I will use Oregon major cities shapefile. Link to the resource: [Oregon Spatial Data Library](https://spatialdata.oregonexplorer.info/geoportal/search)"
   ]
  },
  {
   "cell_type": "code",
   "execution_count": 1,
   "id": "7e459771",
   "metadata": {},
   "outputs": [],
   "source": [
    "import geopandas as gpd\n",
    "from ipyleaflet import Map, CircleMarker, LayersControl, GeoData, basemaps\n",
    "from shapely import wkt\n",
    "from shapely.ops import transform\n",
    "from pyproj import CRS, Transformer"
   ]
  },
  {
   "cell_type": "code",
   "execution_count": 2,
   "metadata": {},
   "outputs": [],
   "source": [
    "# using codes below to stop displaying \"warnings\"\n",
    "import warnings\n",
    "warnings.filterwarnings('ignore', category=FutureWarning)"
   ]
  },
  {
   "cell_type": "code",
   "execution_count": 3,
   "id": "7f1a7a06",
   "metadata": {},
   "outputs": [
    {
     "data": {
      "text/html": [
       "<div>\n",
       "<style scoped>\n",
       "    .dataframe tbody tr th:only-of-type {\n",
       "        vertical-align: middle;\n",
       "    }\n",
       "\n",
       "    .dataframe tbody tr th {\n",
       "        vertical-align: top;\n",
       "    }\n",
       "\n",
       "    .dataframe thead th {\n",
       "        text-align: right;\n",
       "    }\n",
       "</style>\n",
       "<table border=\"1\" class=\"dataframe\">\n",
       "  <thead>\n",
       "    <tr style=\"text-align: right;\">\n",
       "      <th></th>\n",
       "      <th>AREA</th>\n",
       "      <th>PERIMETER</th>\n",
       "      <th>CITIES_</th>\n",
       "      <th>CITIES_ID</th>\n",
       "      <th>CITY</th>\n",
       "      <th>FLAG</th>\n",
       "      <th>geometry</th>\n",
       "    </tr>\n",
       "  </thead>\n",
       "  <tbody>\n",
       "    <tr>\n",
       "      <th>0</th>\n",
       "      <td>0.0</td>\n",
       "      <td>0.0</td>\n",
       "      <td>1</td>\n",
       "      <td>1658</td>\n",
       "      <td>MULINO</td>\n",
       "      <td>0</td>\n",
       "      <td>POINT (776899.812 1272019.125)</td>\n",
       "    </tr>\n",
       "    <tr>\n",
       "      <th>1</th>\n",
       "      <td>0.0</td>\n",
       "      <td>0.0</td>\n",
       "      <td>2</td>\n",
       "      <td>1368</td>\n",
       "      <td>HAMMOND</td>\n",
       "      <td>0</td>\n",
       "      <td>POINT (439320.844 1638725.000)</td>\n",
       "    </tr>\n",
       "    <tr>\n",
       "      <th>2</th>\n",
       "      <td>0.0</td>\n",
       "      <td>0.0</td>\n",
       "      <td>3</td>\n",
       "      <td>1366</td>\n",
       "      <td>FORT STEVENS</td>\n",
       "      <td>0</td>\n",
       "      <td>POINT (435108.000 1641590.750)</td>\n",
       "    </tr>\n",
       "    <tr>\n",
       "      <th>3</th>\n",
       "      <td>0.0</td>\n",
       "      <td>0.0</td>\n",
       "      <td>4</td>\n",
       "      <td>1382</td>\n",
       "      <td>GLIFTON</td>\n",
       "      <td>0</td>\n",
       "      <td>POINT (560721.000 1638699.875)</td>\n",
       "    </tr>\n",
       "    <tr>\n",
       "      <th>4</th>\n",
       "      <td>0.0</td>\n",
       "      <td>0.0</td>\n",
       "      <td>5</td>\n",
       "      <td>1384</td>\n",
       "      <td>BRADWOOD</td>\n",
       "      <td>0</td>\n",
       "      <td>POINT (568325.812 1632800.000)</td>\n",
       "    </tr>\n",
       "  </tbody>\n",
       "</table>\n",
       "</div>"
      ],
      "text/plain": [
       "   AREA  PERIMETER  CITIES_  CITIES_ID          CITY  FLAG  \\\n",
       "0   0.0        0.0        1       1658        MULINO     0   \n",
       "1   0.0        0.0        2       1368       HAMMOND     0   \n",
       "2   0.0        0.0        3       1366  FORT STEVENS     0   \n",
       "3   0.0        0.0        4       1382       GLIFTON     0   \n",
       "4   0.0        0.0        5       1384      BRADWOOD     0   \n",
       "\n",
       "                         geometry  \n",
       "0  POINT (776899.812 1272019.125)  \n",
       "1  POINT (439320.844 1638725.000)  \n",
       "2  POINT (435108.000 1641590.750)  \n",
       "3  POINT (560721.000 1638699.875)  \n",
       "4  POINT (568325.812 1632800.000)  "
      ]
     },
     "execution_count": 3,
     "metadata": {},
     "output_type": "execute_result"
    }
   ],
   "source": [
    "# read file with gpd\n",
    "cities = gpd.read_file(\"D:\\cities.shp\") # your file path\n",
    "cities.head()"
   ]
  },
  {
   "cell_type": "code",
   "execution_count": 4,
   "id": "b2b6d457",
   "metadata": {},
   "outputs": [
    {
     "data": {
      "application/vnd.jupyter.widget-view+json": {
       "model_id": "93f86af1f06741a0b6b1c4cb7e4fd427",
       "version_major": 2,
       "version_minor": 0
      },
      "text/plain": [
       "Map(center=[43.8, -120.55], controls=(ZoomControl(options=['position', 'zoom_in_text', 'zoom_in_title', 'zoom_…"
      ]
     },
     "execution_count": 4,
     "metadata": {},
     "output_type": "execute_result"
    }
   ],
   "source": [
    "# Function to convert geometries to 2D\n",
    "def to_2d(geometry):\n",
    "    if geometry.is_empty:\n",
    "        return geometry\n",
    "    if '3D' in geometry.type:\n",
    "        # Convert MultiPolygon and Polygon geometries to 2D\n",
    "        return wkt.loads(wkt.dumps(geometry, output_dimension=2))\n",
    "    return geometry\n",
    "\n",
    "# Ensure all geometries are valid and convert to 2D\n",
    "cities = cities[cities.geometry.notnull() & cities.is_valid]\n",
    "cities['geometry'] = cities['geometry'].apply(to_2d)\n",
    "\n",
    "# Define source and target CRS using pyproj\n",
    "source_crs = CRS(cities.crs)\n",
    "target_crs = CRS('epsg:4326') # you can set your desired crs here\n",
    "project = Transformer.from_crs(source_crs, target_crs, always_xy=True).transform\n",
    "\n",
    "# Apply the transformation\n",
    "cities['geometry'] = cities['geometry'].apply(lambda geom: transform(project, geom))\n",
    "\n",
    "# Create an ipyleaflet map\n",
    "m = Map(center=(43.80, -120.55), zoom=6, basemap=basemaps.OpenStreetMap.Mapnik) # set center depends on your project, zoom as well\n",
    "\n",
    "# Loop through each city and create a circle marker\n",
    "for idx, row in cities.iterrows():\n",
    "    circle_marker = CircleMarker()\n",
    "    circle_marker.location = (row.geometry.y, row.geometry.x)\n",
    "    circle_marker.radius = 1  # Adjust the size as needed\n",
    "    circle_marker.color = \"black\"\n",
    "    circle_marker.weight = 1  # Adjust the thickness of the circle's outline\n",
    "    m.add_layer(circle_marker)\n",
    "\n",
    "# Add layer control\n",
    "m.add_control(LayersControl())\n",
    "\n",
    "# Display the map\n",
    "m\n"
   ]
  }
 ],
 "metadata": {
  "kernelspec": {
   "display_name": "Python 3 (ipykernel)",
   "language": "python",
   "name": "python3"
  },
  "language_info": {
   "codemirror_mode": {
    "name": "ipython",
    "version": 3
   },
   "file_extension": ".py",
   "mimetype": "text/x-python",
   "name": "python",
   "nbconvert_exporter": "python",
   "pygments_lexer": "ipython3",
   "version": "3.9.18"
  }
 },
 "nbformat": 4,
 "nbformat_minor": 5
}
