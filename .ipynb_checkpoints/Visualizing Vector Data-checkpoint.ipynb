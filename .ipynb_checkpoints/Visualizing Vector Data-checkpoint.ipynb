{
 "cells": [
  {
   "cell_type": "markdown",
   "id": "7f90457d",
   "metadata": {},
   "source": [
    "# Visualizing Vector Data\n",
    "\n",
    "### Note: In this example, I will use Oregon major cities shapefile. Link to the resource: [Oregon Spatial Data Library](https://spatialdata.oregonexplorer.info/geoportal/search)"
   ]
  },
  {
   "cell_type": "code",
   "execution_count": null,
   "id": "7e459771",
   "metadata": {},
   "outputs": [],
   "source": [
    "import os\n",
    "os.environ['USE_PYGEOS'] = '0'\n",
    "import geopandas as gpd\n",
    "import warnings\n",
    "import shapely\n",
    "from shapely.ops import transform\n",
    "import pyproj\n",
    "from ipyleaflet import Map, GeoData, basemaps, LayersControl, Marker, Icon"
   ]
  },
  {
   "cell_type": "code",
   "execution_count": null,
   "id": "a7d7e37d",
   "metadata": {},
   "outputs": [],
   "source": [
    "# read file with gpd\n",
    "cities = gpd.read_file(\"D:\\Geospatial_Data\\Oregon_Cities\\cities\\cities.shp\")\n",
    "cities.head()\n",
    "\n",
    "# Ignore FutureWarnings from GeoPandas\n",
    "warnings.filterwarnings('ignore', category=FutureWarning)"
   ]
  },
  {
   "cell_type": "code",
   "execution_count": null,
   "id": "2fe0e9d6",
   "metadata": {},
   "outputs": [],
   "source": [
    "# Function to convert geometries to 2D\n",
    "def to_2d(geometry):\n",
    "    if geometry.is_empty:\n",
    "        return geometry\n",
    "    if '3D' in geometry.type:\n",
    "        # Convert MultiPolygon and Polygon geometries to 2D\n",
    "        return shapely.wkt.loads(shapely.wkt.dumps(geometry, output_dimension=2))\n",
    "    return geometry\n",
    "\n",
    "# Read file with gpd\n",
    "cities = gpd.read_file(\"D:/Geospatial_Data/Oregon_Cities/cities/cities.shp\")\n",
    "\n",
    "# Ensure all geometries are valid and convert to 2D\n",
    "cities = cities[cities.geometry.notnull() & cities.is_valid]\n",
    "cities['geometry'] = cities['geometry'].astype(object).apply(to_2d)\n",
    "\n",
    "# Define source and target CRS using pyproj\n",
    "source_crs = pyproj.CRS(cities.crs)\n",
    "target_crs = pyproj.CRS('epsg:4326')\n",
    "project = pyproj.Transformer.from_crs(source_crs, target_crs, always_xy=True).transform\n",
    "\n",
    "# Apply the transformation\n",
    "cities['geometry'] = cities['geometry'].apply(lambda geom: transform(project, geom))\n",
    "\n",
    "# Create an ipyleaflet map\n",
    "m = Map(center=(43.80, -120.55), zoom=6, basemap=basemaps.OpenStreetMap.Mapnik)\n",
    "\n",
    "# Define a smaller icon\n",
    "small_icon = Icon(icon_url='path/to/small-icon.png', icon_size=[10, 10])  # Specify the URL and size\n",
    "\n",
    "# Loop through each city and create a marker\n",
    "for idx, row in cities.iterrows():\n",
    "    marker = Marker(location=(row.geometry.y, row.geometry.x), icon=small_icon)\n",
    "    m.add_layer(marker)\n",
    "\n",
    "# Add layer control\n",
    "m.add_control(LayersControl())\n",
    "\n",
    "# Display the map\n",
    "m"
   ]
  },
  {
   "cell_type": "code",
   "execution_count": null,
   "id": "30265ffc",
   "metadata": {},
   "outputs": [],
   "source": []
  }
 ],
 "metadata": {
  "kernelspec": {
   "display_name": "Python 3 (ipykernel)",
   "language": "python",
   "name": "python3"
  },
  "language_info": {
   "codemirror_mode": {
    "name": "ipython",
    "version": 3
   },
   "file_extension": ".py",
   "mimetype": "text/x-python",
   "name": "python",
   "nbconvert_exporter": "python",
   "pygments_lexer": "ipython3",
   "version": "3.9.18"
  }
 },
 "nbformat": 4,
 "nbformat_minor": 5
}
